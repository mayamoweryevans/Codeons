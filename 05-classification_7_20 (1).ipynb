{
 "cells": [
  {
   "cell_type": "markdown",
   "metadata": {
    "id": "snMo9ZsfZrjJ"
   },
   "source": [
    "## Project 5 : Classification"
   ]
  },
  {
   "cell_type": "markdown",
   "metadata": {
    "id": "FD5coBt7ZrjM"
   },
   "source": [
    "## Instructions\n",
    "\n",
    "### Description\n",
    "\n",
    "Practice classification on the Titanic dataset.\n",
    "\n",
    "### Grading\n",
    "\n",
    "For grading purposes, we will clear all outputs from all your cells and then run them all from the top.  Please test your notebook in the same fashion before turning it in.\n",
    "\n",
    "### Submitting Your Solution\n",
    "\n",
    "To submit your notebook, first clear all the cells (this won't matter too much this time, but for larger data sets in the future, it will make the file smaller).  Then use the File->Download As->Notebook to obtain the notebook file.  Finally, submit the notebook file on Canvas.\n"
   ]
  },
  {
   "cell_type": "code",
   "execution_count": null,
   "metadata": {
    "id": "Qy1IWSV2ZrjN"
   },
   "outputs": [],
   "source": [
    "import pandas as pd\n",
    "import numpy as np\n",
    "import sklearn as sk\n",
    "import matplotlib.pyplot as plt\n",
    "import seaborn as sns\n",
    "\n",
    "plt.style.use('ggplot')\n",
    "\n",
    "%matplotlib inline\n",
    "%config InlineBackend.figure_format = 'retina'"
   ]
  },
  {
   "cell_type": "markdown",
   "metadata": {
    "collapsed": true,
    "id": "yTgZ8xwPZrjO"
   },
   "source": [
    "### Introduction\n",
    "\n",
    "On April 15, 1912, the largest passenger liner ever made collided with an iceberg during her maiden voyage. When the Titanic sank it killed 1502 out of 2224 passengers and crew. This sensational tragedy shocked the international community and led to better safety regulations for ships. One of the reasons that the shipwreck resulted in such loss of life was that there were not enough lifeboats for the passengers and crew. Although there was some element of luck involved in surviving the sinking, some groups of people were more likely to survive than others.\n",
    "\n",
    "Intro Videos: \n",
    "https://www.youtube.com/watch?v=3lyiZMeTKIo\n",
    "and\n",
    "https://www.youtube.com/watch?v=ItjXTieWKyI \n",
    "\n",
    "The `titanic_data.csv` file contains data for `887` of the real Titanic passengers. Each row represents one person. The columns describe different attributes about the person including whether they survived (`0=No`), their age, their passenger-class (`1=1st Class, Upper`), gender, and the fare they paid (£s*). For more on the currency: http://www.statisticalconsultants.co.nz/blog/titanic-fare-data.html\n",
    "\n",
    "We are going to try to see if there are correlations between the feature data provided (find a best subset of features) and passenger survival."
   ]
  },
  {
   "cell_type": "markdown",
   "metadata": {
    "id": "Yo2wAo3vZrjO"
   },
   "source": [
    "### Problem 1: Load and understand the data (25 points)\n",
    "\n",
    "#### Your task (some of this is the work you completed for L14 - be sure to copy that work into here as needed)\n",
    "Conduct some preprocessing steps to explore the following and provide code/answers in the below cells:\n",
    "1. Load the `titanic_data.csv` file into a pandas dataframe\n",
    "2. Explore the data provided (e.g., looking at statistics using describe(), value_counts(), histograms, scatter plots of various features, etc.) \n",
    "3. What are the names of feature columns that appear to be usable for learning?\n",
    "4. What is the name of the column that appears to represent our target?\n",
    "5. Formulate a hypothesis about the relationship between given feature data and the target\n",
    "6. How did Pclass affect passenngers' chances of survival?\n",
    "7. What is the age distribution of survivors?"
   ]
  },
  {
   "cell_type": "code",
   "execution_count": null,
   "metadata": {
    "id": "g_FdHGWgZrjP"
   },
   "outputs": [],
   "source": [
    "# Step 1. Load the `titanic_data.csv` file into a pandas dataframe\n",
    "titanic = pd.read_table('titanic_data.csv', delimiter = \",\")\n",
    "titanic"
   ]
  },
  {
   "cell_type": "code",
   "execution_count": null,
   "metadata": {
    "id": "W39VMl34ZrjP"
   },
   "outputs": [],
   "source": [
    "# Step 2. Explore the data provided (e.g., looking at statistics using describe(),\n",
    "#value_counts(), histograms, scatter plots of various features, etc.) \n",
    "#titanic.T\n",
    "#titanic\n",
    "#titanic.columns\n",
    "\n",
    "#Survived = titanic[titanic['Survived']== 1]\n",
    "#titanic.plot.bar(x='Pclass', y='Survived')\n",
    "\n",
    "\n",
    "#sns.set_theme(style=\"whitegrid\")\n",
    "#titanic = sns.load_dataset(\"titanic\")\n",
    "\n",
    "#ax = sns.barplot(x=\"Pclass\", y=\"Survived\", data=titanic)                   # worked!\n",
    "#ax = sns.barplot(x=\"Age\", y=\"Survived\", data=titanic)                      # no worked!!.... histogram???\n",
    "#ax = sns.barplot(x=\"Siblings/Spouses Aboard\", y=\"Survived\", data=titanic)  #kinda worked??\n",
    "#ax = sns.barplot(x=\"Parents/Children Aboard\", y=\"Survived\", data=titanic)  # worked!\n",
    "#ax = sns.barplot(x=\"Fare\", y=\"Survived\", data=titanic)                     # no worked!!.... histogram???\n",
    "#sns.displot(data=titanic, x=\"Fare\")\n",
    "#sns.displot(titanic, x=\"Fare\", binwidth=1) # AttributeError: module 'seaborn' has no attribute 'displot'\n",
    "#sns.lineplot(data=titanic, x=\"Fare\", y=\"Survived\")\n",
    "\n",
    "#x = titanic['Age']                                                          #aslo did for 'Fare' :)\n",
    "#y = titanic['Survived']\n",
    "\n",
    "#plt.plot(x,y, \"bo\")\n",
    "ax = sns.barplot(x=\"Sex\", y=\"Survived\", data=titanic)"
   ]
  },
  {
   "cell_type": "markdown",
   "metadata": {
    "id": "8P3MyrYvZrjP"
   },
   "source": [
    "---\n",
    "\n",
    "**Edit this cell to provide answers to the following steps:**\n",
    "\n",
    "---\n",
    "\n",
    "Step 3. What are the names of feature columns that appear to be usable for learning?\n",
    "\n",
    "'Pclass','Sex' \n",
    "\n",
    "Step 4. What is the name of the column that appears to represent our target?\n",
    "\n",
    "'Survived'\n",
    "\n",
    "Step 5. Formulate a hypothesis about the relationship between given feature data and the target\n",
    "\n",
    "Males will survive less and survival for class will be 1st>2nd>3rd.\n"
   ]
  },
  {
   "cell_type": "code",
   "execution_count": null,
   "metadata": {
    "id": "UT2-1I86ZrjQ"
   },
   "outputs": [],
   "source": [
    "#Step 6. How did Pclass affect passenngers' chances of survival?\n",
    "#As the Pclass 'improved' -aka from third to second to first-, the chace of survival increased.  \n",
    "#Show your work with a bar plot, dataframe selection, or visual of your choice.\n",
    "ax = sns.barplot(x=\"Pclass\", y=\"Survived\", data=titanic) \n"
   ]
  },
  {
   "cell_type": "code",
   "execution_count": null,
   "metadata": {
    "id": "beX7g2S2ZrjQ"
   },
   "outputs": [],
   "source": [
    "#Step 7. What is the age distribution of survivors?\n",
    "#Show your work with a dataframe operation and/or histogram plot.\n",
    "Surved = titanic[titanic['Survived']== 1]\n",
    "Aaaaygg = Surved['Age']                         # or titanic[titanic['Age']== ____] lol maybe?\n",
    "plt.hist(Aaaaygg, 50)\n",
    "plt.title(\"age distribution of titanic survivors\")\n",
    "plt.xlabel(\"Age\") \n",
    "plt.ylabel(\"Number of Survivors\")\n",
    "plt.show()\n",
    "#ok.. .so make {}?  with one as [of Age] and other as [of survived or no] then use in histogram "
   ]
  },
  {
   "cell_type": "markdown",
   "metadata": {
    "id": "Ei9hTK4wZrjR"
   },
   "source": [
    "### Problem 2: transform the data (10 points)\n",
    "\n",
    "The `Sex` column is categorical, meaning its data are separable into groups, but not numerical. To be able to work with this data, we need numbers, so you task is to transform the `Sex` column into numerical data with pandas' `get_dummies` feature and remove the original categorical `Sex` column."
   ]
  },
  {
   "cell_type": "code",
   "execution_count": null,
   "metadata": {
    "id": "wcBPWipsZrjR"
   },
   "outputs": [],
   "source": [
    "dummies = pd.get_dummies(titanic, prefix = \"FT\", columns=['Sex'], drop_first=True)\n",
    "dummies.head()"
   ]
  },
  {
   "cell_type": "markdown",
   "metadata": {
    "id": "XipNK7BMZrjR"
   },
   "source": [
    "### Problem 3: Classification (30 points)\n",
    "Now that the data is transformed, we want to run various classification experiments on it. The first is `K Nearest Neighbors`, which you will conduct by:\n",
    "\n",
    "1. Define input and target data by creating lists of dataframe columns (e.g., inputs = ['Pclass', etc.)\n",
    "2. Split the data into training and testing sets with `train_test_split()`\n",
    "3. Create a `KNeighborsClassifier` using `5` neighbors at first (you can experiment with this parameter)\n",
    "4. Train your model by passing the training dataset to `fit()`\n",
    "5. Calculate predicted target values(y_hat) by passing the testing dataset to `predict()`\n",
    "6. Print the accuracy of the model with `score()`\n",
    "\n",
    "** Note: If you get a python warning as you use the Y, trainY, or testY vector in some of the function calls about \"DataConversionWarning: A column-vector y was passed when a 1d array was expected. Please change the shape of y to (n_samples, )\", you can look up how to use trainY.values.ravel() or trainY.values.flatten() or another function, etc."
   ]
  },
  {
   "cell_type": "code",
   "execution_count": null,
   "metadata": {
    "id": "tbb25y7RZrjS"
   },
   "outputs": [],
   "source": [
    "inputs = dummies[['Pclass', 'FT_male']]\n",
    "target = dummies['Survived']\n",
    "dummies.columns"
   ]
  },
  {
   "cell_type": "code",
   "execution_count": null,
   "metadata": {
    "id": "pS7mNB05ZrjS"
   },
   "outputs": [],
   "source": [
    "from sklearn.model_selection import train_test_split\n",
    "train_test_split(inputs)\n",
    "\n",
    "\n",
    "X_train, X_test, y_train, y_test = train_test_split(inputs,target, test_size = 0.15)"
   ]
  },
  {
   "cell_type": "code",
   "execution_count": null,
   "metadata": {
    "id": "yk-xmVtEZrjS"
   },
   "outputs": [],
   "source": [
    "from sklearn.neighbors import KNeighborsClassifier\n",
    "k = 5\n",
    "\n",
    "model = KNeighborsClassifier(k)\n",
    "model.fit(X_train, y_train)\n",
    "predicted = model.predict(inputs)\n",
    "print(model.score(X_test, y_test))"
   ]
  },
  {
   "cell_type": "markdown",
   "metadata": {
    "id": "l9prt7aTZrjS"
   },
   "source": [
    "### Problem 4: Cross validation, classification report (15 points)\n",
    "- Using the concepts from the 17-model_selection slides and the [`cross_val_score`](http://scikit-learn.org/stable/modules/generated/sklearn.model_selection.cross_val_score.html) function from scikit-learn, estimate the f-score ([`f1-score`](http://scikit-learn.org/stable/modules/generated/sklearn.metrics.f1_score.html#sklearn.metrics.f1_score) (you can use however many folds you wish). To get `cross_val_score` to use `f1-score` rather than the default accuracy measure, you will need to set the `scoring` parameter and use a scorer object created via [`make_scorer`](http://scikit-learn.org/stable/modules/generated/sklearn.metrics.make_scorer.html#sklearn.metrics.make_scorer).  Since this has a few parts to it, let me just give you that parameter: ```scorerVar = make_scorer(f1_score, pos_label=1)```\n",
    "\n",
    "- Using the concepts from the end of the 14-classification slides, output a confusion matrix.\n",
    "\n",
    "- Also, output a classification report [`classification_report`](http://scikit-learn.org/stable/modules/generated/sklearn.metrics.classification_report.html) from sklearn.metrics showing more of the metrics: precision, recall, f1-score for both of our classes."
   ]
  },
  {
   "cell_type": "code",
   "execution_count": null,
   "metadata": {
    "id": "Ud5y-XedZrjT",
    "scrolled": false
   },
   "outputs": [],
   "source": [
    "from sklearn import metrics\n",
    "from sklearn.metrics import confusion_matrix, f1_score, classification_report, make_scorer \n",
    "from sklearn import model_selection \n",
    "\n",
    "# scorerVar = make_scorer(f1_score, pos_label=1)\n",
    "# scores = model_selection.cross_val_score(model, inputs, target,cv = 5)\n",
    "# print(scores)\n",
    "\n",
    "scorerVar = make_scorer(f1_score, pos_label=1)\n",
    "scores = model_selection.cross_val_score(model,inputs, target, scoring = scorerVar, cv = 5)\n",
    "print(\"F-1 Scores:\", scores, \"\\nMean F-1 Score:\", scores.mean(), \"\\nStandard deviation:\", scores.std())\n",
    "print(\"\\nConfusion matrix\\n\", confusion_matrix(y_test, model.predict(X_test)), \"\\n\")\n",
    "print(\"Classification report:\\n\", classification_report(y_test, model.predict(X_test)))\n",
    "print(model.score(inputs, target))"
   ]
  },
  {
   "cell_type": "markdown",
   "metadata": {
    "id": "6KRHtfpZZrjT"
   },
   "source": [
    "### Problem 5: Support Vector Machines (15 points)\n",
    "Now, repeat the above experiment using the using a Support Vector classifier [`SVC`](http://scikit-learn.org/stable/modules/generated/sklearn.svm.SVC.html) with default parameters (RBF kernel) model in scikit-learn, and output:\n",
    "\n",
    "- The fit accuracy (using the `score` method of the model)\n",
    "- The f-score (using the [`cross_val_score`](http://scikit-learn.org/stable/modules/generated/sklearn.model_selection.cross_val_score.html) function)\n",
    "- The confusion matrix\n",
    "- The precision, recall, and f-measure for the 1 class (you can just print the results of the [`classification_report`](http://scikit-learn.org/stable/modules/generated/sklearn.metrics.classification_report.html) function from sklearn.metrics)"
   ]
  },
  {
   "cell_type": "code",
   "execution_count": null,
   "metadata": {
    "id": "zGjGEZD6ZrjT"
   },
   "outputs": [],
   "source": [
    "from sklearn.svm import SVC\n",
    "from sklearn.model_selection import cross_val_score\n",
    "\n",
    "#create a model object\n",
    "model = SVC(C=0.23)\n",
    "#train our model\n",
    "model.fit(X_train, y_train)\n",
    "predicted = model.predict(inputs)\n",
    "print(model.score(X_test, y_test))\n",
    "#evaluate the model \n",
    "scorerVar = make_scorer(f1_score, pos_label=1)\n",
    "scores = model_selection.cross_val_score(model,inputs, target, scoring = scorerVar, cv = 5)\n",
    "#setup to get f-score and cv\n",
    "print(\"F-1 Scores:\", scores, \"\\nMean F-1 Score:\", scores.mean(), \"\\nStandard deviation:\", scores.std())\n",
    "#confusion matrix\n",
    "print(\"\\nConfusion matrix\\n\", confusion_matrix(y_test, model.predict(X_test)), \"\\n\")\n",
    "#classification report\n",
    "print(\"Classification report:\\n\", classification_report(y_test, model.predict(X_test)))\n",
    "print(model.score(inputs, target))"
   ]
  },
  {
   "cell_type": "markdown",
   "metadata": {
    "id": "fWmwls34ZrjU",
    "slideshow": {
     "slide_type": "fragment"
    }
   },
   "source": [
    "### Problem 6: Comparision and Discussion (5 points)\n",
    "Edit this cell to provide a brief discussion (3-5 sentances at most):\n",
    "1. What was the model/algorithm that performed best for you?\n",
    "clasification  \n",
    "2. What feaures and parameters were used to achieve that performance?\n",
    "feaures and parameters; Pclass & gender and k = 5\n",
    "3. What insights did you gain from your experimentation about the predictive power of this dataset and did it match your original hypothesis about the relationship between given feature data and the target?\n",
    "From this experimentation I learned that computers make it so much esier to predict trends in this data set. It did match my original hypothesis that the class and gender affected survival. "
   ]
  },
  {
   "cell_type": "markdown",
   "metadata": {
    "id": "IZLuk1FmZrjU"
   },
   "source": [
    "### Questionnaire\n",
    "1) How long did you spend on this assignment?\n",
    "<br>3 hours<br>\n",
    "2) What did you like about it? What did you not like about it?\n",
    "<br> I liked the data set, the idea, the legibility, and the order. <br>\n",
    "3) Did you find any errors or is there anything you would like changed?\n",
    "<br> the only error was a grammar typo in problem two, \"... ers, so you task is to transform the....\" but it should read \"....ers, so YOUR  task is to transform the....\"<br>"
   ]
  }
 ],
 "metadata": {
  "anaconda-cloud": {},
  "colab": {
   "name": "05-classification_7_20.ipynb",
   "provenance": []
  },
  "kernelspec": {
   "display_name": "Python 3",
   "language": "python",
   "name": "python3"
  },
  "language_info": {
   "codemirror_mode": {
    "name": "ipython",
    "version": 3
   },
   "file_extension": ".py",
   "mimetype": "text/x-python",
   "name": "python",
   "nbconvert_exporter": "python",
   "pygments_lexer": "ipython3",
   "version": "3.6.5"
  }
 },
 "nbformat": 4,
 "nbformat_minor": 1
}
